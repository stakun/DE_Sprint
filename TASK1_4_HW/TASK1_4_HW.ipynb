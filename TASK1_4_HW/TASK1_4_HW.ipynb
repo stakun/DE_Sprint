{
  "nbformat": 4,
  "nbformat_minor": 0,
  "metadata": {
    "colab": {
      "provenance": [],
      "collapsed_sections": []
    },
    "kernelspec": {
      "name": "python3",
      "display_name": "Python 3"
    },
    "language_info": {
      "name": "python"
    }
  },
  "cells": [
    {
      "cell_type": "markdown",
      "source": [
        "# Задание по теме «1.4. Использование библиотек NumPy, SciPy»"
      ],
      "metadata": {
        "id": "2D9DWwjXa8IF"
      }
    },
    {
      "cell_type": "markdown",
      "source": [
        "## Импорт библиотек"
      ],
      "metadata": {
        "id": "8_mcyx6hazUv"
      }
    },
    {
      "cell_type": "code",
      "execution_count": 1,
      "metadata": {
        "id": "5AYLL1SmZy5K"
      },
      "outputs": [],
      "source": [
        "import scipy.stats as sps\n",
        "import numpy as np\n",
        "import ipywidgets as widgets\n",
        "import matplotlib.pyplot as plt\n",
        "%matplotlib inline"
      ]
    },
    {
      "cell_type": "markdown",
      "source": [
        "## 1. Построение распределений\n",
        "\n",
        "Сгенерировать выборку с распределением Рэлэя ( https://ru.wikipedia.org/wiki/Распределение_Рэлея ) используя numpy и scipy и построить на основе ее кривую плотности распределения на основе гистограммы из Matplotlib."
      ],
      "metadata": {
        "id": "_klgoqzndKL_"
      }
    },
    {
      "cell_type": "code",
      "source": [
        "from scipy.stats import rayleigh\n",
        "fig, ax = plt.subplots(1, 1)\n",
        "\n",
        "# Находим первые 4 момента\n",
        "mean, var, skew, kurt = rayleigh.stats(moments='mvsk')\n",
        "\n",
        "# Отображаем функцию плотности распределения\n",
        "x = np.linspace(rayleigh.ppf(0.01), rayleigh.ppf(0.99), 100)\n",
        "ax.plot(x, rayleigh.pdf(x), 'r-', lw=5, alpha=0.6, label='rayleigh pdf')\n",
        "\n",
        "r = rayleigh.rvs(size=1000) # генерируем выборку 1000 элементов\n",
        "\n",
        "# Строим гистограмму распределения\n",
        "ax.hist(r, density=True, histtype='stepfilled', alpha=0.5)\n",
        "ax.legend(loc='best', frameon=False)\n",
        "\n",
        "plt.show()"
      ],
      "metadata": {
        "colab": {
          "base_uri": "https://localhost:8080/",
          "height": 265
        },
        "id": "fM_zLIoe44YN",
        "outputId": "23c4a5d0-9bea-4881-fdf9-6a7ee7012be1"
      },
      "execution_count": 123,
      "outputs": [
        {
          "output_type": "display_data",
          "data": {
            "text/plain": [
              "<Figure size 432x288 with 1 Axes>"
            ],
            "image/png": "[encoded data removed]"
          },
          "metadata": {
            "needs_background": "light"
          }
        }
      ]
    },
    {
      "cell_type": "markdown",
      "source": [
        "## 2. Построение графика по функции\n",
        "\n",
        "Сгенерировать массивы по функции (x^2 + y^2 - 1)^3 - x^2 y^3 = 0 и построить на основе них график."
      ],
      "metadata": {
        "id": "y-m3uEXx44tu"
      }
    },
    {
      "cell_type": "code",
      "source": [
        "x = np.arange(-2, 2, 0.001)\n",
        "y1 = 0.5*((x**2)**(1/3)-((x**4)**(1/3)-(4*x**2)+4)**0.5)\n",
        "y2 = 0.5*((x**2)**(1/3)+((x**4)**(1/3)-(4*x**2)+4)**0.5)\n",
        "plt.plot(x,y1)\n",
        "plt.plot(x,y2)\n",
        "plt.grid()\n",
        "plt.show()"
      ],
      "metadata": {
        "colab": {
          "base_uri": "https://localhost:8080/",
          "height": 334
        },
        "id": "NcLLR0iI45Fg",
        "outputId": "9e04c75c-74e4-4e64-d1b4-1b3cc68e8ab0"
      },
      "execution_count": 107,
      "outputs": [
        {
          "output_type": "stream",
          "name": "stderr",
          "text": [
            "/usr/local/lib/python3.7/dist-packages/ipykernel_launcher.py:2: RuntimeWarning: invalid value encountered in sqrt\n",
            "  \n",
            "/usr/local/lib/python3.7/dist-packages/ipykernel_launcher.py:3: RuntimeWarning: invalid value encountered in sqrt\n",
            "  This is separate from the ipykernel package so we can avoid doing imports until\n"
          ]
        },
        {
          "output_type": "display_data",
          "data": {
            "text/plain": [
              "<Figure size 432x288 with 1 Axes>"
            ],
            "image/png": "[encoded data removed]"
          },
          "metadata": {
            "needs_background": "light"
          }
        }
      ]
    },
    {
      "cell_type": "markdown",
      "source": [
        "## 3. Анализ зависимостей\n",
        "\n",
        "Найти зависимости представленные в датасете приложенном к заданию. Представить в виде графиков в файле формата Notebook. Для анализа используйте графики scatter, plot, hist, bar из matplotlib и функции numpy и scipy. Постарайтесь не использовать pandas и др. библиотеки, не указанные ранее."
      ],
      "metadata": {
        "id": "iTs12ybsjHIe"
      }
    },
    {
      "cell_type": "code",
      "source": [
        "# Датасет dataset_home.txt содержит 7 колонок, разделенных запятыми\n",
        "# 1. Возраст\n",
        "# 2. Пол\n",
        "# 3. Индекс массы тела\n",
        "# 4. Количество детей\n",
        "# 5. Курит? (yes/no)\n",
        "# 6. Регион проживания\n",
        "# 7. Сумма, которую человек тратит на страховки (прогнозируемая величина Y)\n",
        "\n",
        "\n",
        "# Для начала нам надо собрать данные из нашего текстового файла.\n",
        "# Для этого создадим ряд обычных списков.\n",
        "# Мы создаем обычные списки, а не сразу массивы numpy\n",
        "# так как не знаем размера исходного файла\n",
        "# В теории можно было бы объявить numpy массивы заданной размерности\n",
        "# а потом заполнить их. Но мы сейчас пойдем самым примитивным путем\n",
        "# создадим списки, а потом объединим их в массив numpy\n",
        "\n",
        "age = []\n",
        "sex = []\n",
        "bmi = []\n",
        "children = []\n",
        "smoker = []\n",
        "region = []\n",
        "spending = []"
      ],
      "metadata": {
        "id": "jzl2T9oDi-Gb"
      },
      "execution_count": 125,
      "outputs": []
    },
    {
      "cell_type": "code",
      "source": [
        "ls"
      ],
      "metadata": {
        "colab": {
          "base_uri": "https://localhost:8080/"
        },
        "id": "duP6atYjnYwm",
        "outputId": "612943c1-f50b-4d93-9407-ac17c46e5e1a"
      },
      "execution_count": 126,
      "outputs": [
        {
          "output_type": "stream",
          "name": "stdout",
          "text": [
            "dataset_home.txt  \u001b[0m\u001b[01;34msample_data\u001b[0m/\n"
          ]
        }
      ]
    },
    {
      "cell_type": "code",
      "source": [
        "# Парсинг исходного датасета в списки\n",
        "\n",
        "with open(\"./dataset_home.txt\", mode = \"r\") as data:\n",
        "  for human in data.readlines():\n",
        "    #print(human)\n",
        "    # Заполняем список возрастов преобразуя их в целые числа\n",
        "    age.append(int(human.split(\",\")[0]))\n",
        "    \n",
        "    # Заполняем список полов преобразуя строки в 0 и 1\n",
        "    if human.split(\",\")[1] == \"male\":\n",
        "      sex.append(1) # если мужчина заносим в список 1\n",
        "    else:\n",
        "      sex.append(0) # если женщина заносим в список 0\n",
        "    \n",
        "    # Заполняем список ИМТ преобразуя строки в числа с пл. точкой\n",
        "    bmi.append(float(human.split(\",\")[2]))\n",
        "\n",
        "    # Заполняем список кол-ва детей преобразуя их в целые числа\n",
        "    children.append(int(human.split(\",\")[3]))\n",
        "\n",
        "    # Заполняем список признака курильщика преобразуя строки в 0 и 1\n",
        "    if human.split(\",\")[4] == \"yes\":\n",
        "      smoker.append(1) # если курит заносим в список 1\n",
        "    else:\n",
        "      smoker.append(0) # если не курит заносим в список 0\n",
        "    \n",
        "    # Заполняем список регионов кодами регионов\n",
        "    if human.split(\",\")[5] == \"northwest\":\n",
        "      region.append(0) # 0 - northwest\n",
        "    elif human.split(\",\")[5] == \"northeast\":\n",
        "      region.append(1) # 1 - northeast\n",
        "    elif human.split(\",\")[5] == \"southwest\":\n",
        "      region.append(2) # 2 - southwest\n",
        "    elif human.split(\",\")[5] == \"southeast\":\n",
        "      region.append(3) # 3 - southeast\n",
        "    else:\n",
        "      region.append(human.split(\",\")[5]) # Если пропустили регион в условии заносим его как есть \n",
        "\n",
        "    # Заполняем список трат на страховки преобразуя строки в числа с пл. точкой\n",
        "    spending.append(float(human.split(\",\")[6]))"
      ],
      "metadata": {
        "id": "-B9qAds4nfMo"
      },
      "execution_count": 127,
      "outputs": []
    },
    {
      "cell_type": "code",
      "source": [
        "# Преобразуем полученные списки в nupmy массивы\n",
        "\n",
        "age = np.array(age)\n",
        "sex = np.array(sex)\n",
        "bmi = np.array(bmi)\n",
        "children = np.array(children)\n",
        "smoker = np.array(smoker)\n",
        "region = np.array(region)\n",
        "spending = np.array(spending)"
      ],
      "metadata": {
        "id": "SI49JJS0uoLg"
      },
      "execution_count": 128,
      "outputs": []
    },
    {
      "cell_type": "code",
      "source": [
        "age.shape # Проверяем форму массива age"
      ],
      "metadata": {
        "colab": {
          "base_uri": "https://localhost:8080/"
        },
        "id": "i8e3n884u--G",
        "outputId": "98dfd6b9-4a0f-43ce-d50d-841d945ab8c2"
      },
      "execution_count": 129,
      "outputs": [
        {
          "output_type": "execute_result",
          "data": {
            "text/plain": [
              "(670,)"
            ]
          },
          "metadata": {},
          "execution_count": 129
        }
      ]
    },
    {
      "cell_type": "code",
      "source": [
        "# Описательные статистики age\n",
        "age.min(), age.max(), age.mean()"
      ],
      "metadata": {
        "colab": {
          "base_uri": "https://localhost:8080/"
        },
        "id": "M5B2UicNvTuQ",
        "outputId": "6f29b767-e73c-4554-e3f2-0f55e74c5d49"
      },
      "execution_count": 130,
      "outputs": [
        {
          "output_type": "execute_result",
          "data": {
            "text/plain": [
              "(18, 64, 38.37761194029851)"
            ]
          },
          "metadata": {},
          "execution_count": 130
        }
      ]
    },
    {
      "cell_type": "code",
      "source": [
        "# Описательные статистики spending\n",
        "spending.min(), spending.max(), spending.mean()"
      ],
      "metadata": {
        "colab": {
          "base_uri": "https://localhost:8080/"
        },
        "id": "H3P1FzTWvqu3",
        "outputId": "6130f2de-3906-425d-890c-f48baa30256d"
      },
      "execution_count": 131,
      "outputs": [
        {
          "output_type": "execute_result",
          "data": {
            "text/plain": [
              "(1131.5066, 62592.87309, 12899.874326014924)"
            ]
          },
          "metadata": {},
          "execution_count": 131
        }
      ]
    },
    {
      "cell_type": "code",
      "source": [
        "# Построим зависимость spending-age\n",
        "\n",
        "#plt.scatter(spending, age)\n",
        "plt.scatter(np.log(spending), age)"
      ],
      "metadata": {
        "colab": {
          "base_uri": "https://localhost:8080/",
          "height": 282
        },
        "id": "5Ipor7FowV05",
        "outputId": "d39dc0a3-3ad7-492c-8482-afba841c9a00"
      },
      "execution_count": 132,
      "outputs": [
        {
          "output_type": "execute_result",
          "data": {
            "text/plain": [
              "<matplotlib.collections.PathCollection at 0x7ff73b240ad0>"
            ]
          },
          "metadata": {},
          "execution_count": 132
        },
        {
          "output_type": "display_data",
          "data": {
            "text/plain": [
              "<Figure size 432x288 with 1 Axes>"
            ],
            "image/png": "[encoded data removed]"
          },
          "metadata": {
            "needs_background": "light"
          }
        }
      ]
    },
    {
      "cell_type": "code",
      "source": [
        "# Построим зависимость spending-bmi\n",
        "\n",
        "plt.scatter(spending, bmi)\n",
        "#plt.scatter(np.log(spending), bmi)"
      ],
      "metadata": {
        "colab": {
          "base_uri": "https://localhost:8080/",
          "height": 282
        },
        "id": "8Aj4QeFKwxKd",
        "outputId": "725b3647-2158-4afc-f59d-5141b89ad0bf"
      },
      "execution_count": 133,
      "outputs": [
        {
          "output_type": "execute_result",
          "data": {
            "text/plain": [
              "<matplotlib.collections.PathCollection at 0x7ff73b240910>"
            ]
          },
          "metadata": {},
          "execution_count": 133
        },
        {
          "output_type": "display_data",
          "data": {
            "text/plain": [
              "<Figure size 432x288 with 1 Axes>"
            ],
            "image/png": "[encoded data removed]"
          },
          "metadata": {
            "needs_background": "light"
          }
        }
      ]
    },
    {
      "cell_type": "code",
      "source": [
        "# Построим зависимость spending-количество детей\n",
        "\n",
        "plt.scatter(spending, children)\n",
        "#plt.scatter(np.log(spending), children)"
      ],
      "metadata": {
        "colab": {
          "base_uri": "https://localhost:8080/",
          "height": 282
        },
        "id": "3vYXvjgHxPmv",
        "outputId": "4c71bf09-0e75-47e4-e8b9-1a649c22e852"
      },
      "execution_count": 134,
      "outputs": [
        {
          "output_type": "execute_result",
          "data": {
            "text/plain": [
              "<matplotlib.collections.PathCollection at 0x7ff73a653f90>"
            ]
          },
          "metadata": {},
          "execution_count": 134
        },
        {
          "output_type": "display_data",
          "data": {
            "text/plain": [
              "<Figure size 432x288 with 1 Axes>"
            ],
            "image/png": "[encoded data removed]"
          },
          "metadata": {
            "needs_background": "light"
          }
        }
      ]
    },
    {
      "cell_type": "code",
      "source": [
        "# Построим зависимость spending-smoker\n",
        "# scatter здесь не подойдет, построим столбчатый график\n",
        "\n",
        "plt.bar(smoker, spending)"
      ],
      "metadata": {
        "colab": {
          "base_uri": "https://localhost:8080/",
          "height": 282
        },
        "id": "EsaO1MXtx2Iz",
        "outputId": "2ed5a0cc-4c34-44dd-9831-e047b7b28317"
      },
      "execution_count": 135,
      "outputs": [
        {
          "output_type": "execute_result",
          "data": {
            "text/plain": [
              "<BarContainer object of 670 artists>"
            ]
          },
          "metadata": {},
          "execution_count": 135
        },
        {
          "output_type": "display_data",
          "data": {
            "text/plain": [
              "<Figure size 432x288 with 1 Axes>"
            ],
            "image/png": "[encoded data removed]"
          },
          "metadata": {
            "needs_background": "light"
          }
        }
      ]
    },
    {
      "cell_type": "markdown",
      "source": [
        "**Вывод:** у тех, кто не курит расходы на страховку в среднем меньше, чем у курящих"
      ],
      "metadata": {
        "id": "37FuZ4E3yaWC"
      }
    },
    {
      "cell_type": "code",
      "source": [
        "# Построим зависимость sex-smoker\n",
        "# scatter здесь не подойдет, построим столбчатый график\n",
        "\n",
        "plt.bar(sex, spending)"
      ],
      "metadata": {
        "colab": {
          "base_uri": "https://localhost:8080/",
          "height": 282
        },
        "id": "q9q6DBc3Qj10",
        "outputId": "0d7d92a2-89ad-438e-bf6b-44b08fe9c4f1"
      },
      "execution_count": 136,
      "outputs": [
        {
          "output_type": "execute_result",
          "data": {
            "text/plain": [
              "<BarContainer object of 670 artists>"
            ]
          },
          "metadata": {},
          "execution_count": 136
        },
        {
          "output_type": "display_data",
          "data": {
            "text/plain": [
              "<Figure size 432x288 with 1 Axes>"
            ],
            "image/png": "[encoded data removed]"
          },
          "metadata": {
            "needs_background": "light"
          }
        }
      ]
    },
    {
      "cell_type": "markdown",
      "source": [
        "**Вывод:** расходы на страхование у мужчин выше, чем у женщин"
      ],
      "metadata": {
        "id": "KPvHeECuQ-Ga"
      }
    },
    {
      "cell_type": "code",
      "source": [
        "# Построим гистограмму для spending\n",
        "\n",
        "plt.hist(spending)"
      ],
      "metadata": {
        "colab": {
          "base_uri": "https://localhost:8080/",
          "height": 352
        },
        "id": "4B1Nz3fCyZfI",
        "outputId": "9d64293c-e2de-43f5-a8ca-f543b7c44469"
      },
      "execution_count": null,
      "outputs": [
        {
          "output_type": "execute_result",
          "data": {
            "text/plain": [
              "(array([556., 376., 148.,  76.,  38.,  58.,  48.,  30.,   6.,   4.]),\n",
              " array([ 1131.5066  ,  7277.643249, 13423.779898, 19569.916547,\n",
              "        25716.053196, 31862.189845, 38008.326494, 44154.463143,\n",
              "        50300.599792, 56446.736441, 62592.87309 ]),\n",
              " <a list of 10 Patch objects>)"
            ]
          },
          "metadata": {},
          "execution_count": 73
        },
        {
          "output_type": "display_data",
          "data": {
            "text/plain": [
              "<Figure size 432x288 with 1 Axes>"
            ],
            "image/png": "[encoded data removed]"
          },
          "metadata": {
            "needs_background": "light"
          }
        }
      ]
    },
    {
      "cell_type": "markdown",
      "source": [
        "**Вывод:** превалируют значения до 10000"
      ],
      "metadata": {
        "id": "5WkDBH7ey2z1"
      }
    },
    {
      "cell_type": "code",
      "source": [
        "# Посмотрим распределение выборки по возрастам\n",
        "\n",
        "age[age<36].shape # Количество людей младше 36 лет"
      ],
      "metadata": {
        "colab": {
          "base_uri": "https://localhost:8080/"
        },
        "id": "8bwiRiEDy2Za",
        "outputId": "d5787386-10f1-4674-fb79-7910d6cefc4d"
      },
      "execution_count": null,
      "outputs": [
        {
          "output_type": "execute_result",
          "data": {
            "text/plain": [
              "(614,)"
            ]
          },
          "metadata": {},
          "execution_count": 74
        }
      ]
    },
    {
      "cell_type": "code",
      "source": [
        "age[age>35][age[age>35]<56].shape # Количество людей от 35 до 56 лет"
      ],
      "metadata": {
        "colab": {
          "base_uri": "https://localhost:8080/"
        },
        "id": "gKvRLAfAzl5j",
        "outputId": "b7d4c298-51c4-4632-c078-b28630d8168c"
      },
      "execution_count": null,
      "outputs": [
        {
          "output_type": "execute_result",
          "data": {
            "text/plain": [
              "(538,)"
            ]
          },
          "metadata": {},
          "execution_count": 75
        }
      ]
    },
    {
      "cell_type": "code",
      "source": [
        "age[age>55].shape # Количество людей старше 55 лет"
      ],
      "metadata": {
        "colab": {
          "base_uri": "https://localhost:8080/"
        },
        "id": "r8D8jVDHz6aT",
        "outputId": "b587dbd1-63b1-4030-c969-2d7e4f35734c"
      },
      "execution_count": null,
      "outputs": [
        {
          "output_type": "execute_result",
          "data": {
            "text/plain": [
              "(188,)"
            ]
          },
          "metadata": {},
          "execution_count": 76
        }
      ]
    },
    {
      "cell_type": "markdown",
      "source": [
        "**Вывод:** в выборке преобладают молодые люди и люди среднего возраста"
      ],
      "metadata": {
        "id": "eAGpsUxM0DpR"
      }
    },
    {
      "cell_type": "code",
      "source": [
        "# Построим зависимости spending-bmi в разарезе возрастных групп\n",
        "\n",
        "plt.scatter(spending[age<36], bmi[age<36], label = \"age < 36\")\n",
        "plt.scatter(spending[age>35][age[age>35]<56], bmi[age>35][age[age>35]<56], label = \"35 < age < 56\")\n",
        "plt.scatter(spending[age>55], bmi[age>55], label = \"age > 55\")\n",
        "plt.legend()\n",
        "plt.show()\n"
      ],
      "metadata": {
        "colab": {
          "base_uri": "https://localhost:8080/",
          "height": 265
        },
        "id": "pTjYDydW0Ctv",
        "outputId": "241426fc-7626-4289-fedb-d8b8001457e3"
      },
      "execution_count": null,
      "outputs": [
        {
          "output_type": "display_data",
          "data": {
            "text/plain": [
              "<Figure size 432x288 with 1 Axes>"
            ],
            "image/png": "[encoded data removed]"
          },
          "metadata": {
            "needs_background": "light"
          }
        }
      ]
    },
    {
      "cell_type": "markdown",
      "source": [
        "**Вывод:** у людей в возрастной группе 55+ стоимость страховки намного выше."
      ],
      "metadata": {
        "id": "hwEoswPd1-Km"
      }
    },
    {
      "cell_type": "code",
      "source": [
        "# Построим гистограмму распределения веса (bmi)\n",
        "\n",
        "plt.hist(bmi)"
      ],
      "metadata": {
        "colab": {
          "base_uri": "https://localhost:8080/",
          "height": 334
        },
        "id": "SgrkIyoG19-_",
        "outputId": "66385db0-8620-4935-caab-492bc2830cea"
      },
      "execution_count": null,
      "outputs": [
        {
          "output_type": "execute_result",
          "data": {
            "text/plain": [
              "(array([ 54., 160., 258., 306., 284., 158.,  88.,  22.,   6.,   4.]),\n",
              " array([16.815 , 20.4465, 24.078 , 27.7095, 31.341 , 34.9725, 38.604 ,\n",
              "        42.2355, 45.867 , 49.4985, 53.13  ]),\n",
              " <a list of 10 Patch objects>)"
            ]
          },
          "metadata": {},
          "execution_count": 80
        },
        {
          "output_type": "display_data",
          "data": {
            "text/plain": [
              "<Figure size 432x288 with 1 Axes>"
            ],
            "image/png": "[encoded data removed]"
          },
          "metadata": {
            "needs_background": "light"
          }
        }
      ]
    },
    {
      "cell_type": "markdown",
      "source": [
        "**Вывод:** распределени bmi близко к нормальному"
      ],
      "metadata": {
        "id": "AGgpL2Cq2gP_"
      }
    },
    {
      "cell_type": "code",
      "source": [
        "# Построим распределения bmi по группам\n",
        "\n",
        "bmi[bmi<23].shape # Количество людей c bmi меньше 23"
      ],
      "metadata": {
        "colab": {
          "base_uri": "https://localhost:8080/"
        },
        "id": "bCA33A-R2gIp",
        "outputId": "9d2c59e3-408b-418d-a984-99dc3224b9cb"
      },
      "execution_count": null,
      "outputs": [
        {
          "output_type": "execute_result",
          "data": {
            "text/plain": [
              "(152,)"
            ]
          },
          "metadata": {},
          "execution_count": 81
        }
      ]
    },
    {
      "cell_type": "code",
      "source": [
        "bmi[bmi>22][bmi[bmi>22]<38].shape # Количество людей c bmi от 22 до 38"
      ],
      "metadata": {
        "colab": {
          "base_uri": "https://localhost:8080/"
        },
        "outputId": "1adbca97-6175-4fe5-ba15-b181327605ac",
        "id": "idrtXWu_3SeG"
      },
      "execution_count": null,
      "outputs": [
        {
          "output_type": "execute_result",
          "data": {
            "text/plain": [
              "(1100,)"
            ]
          },
          "metadata": {},
          "execution_count": 82
        }
      ]
    },
    {
      "cell_type": "code",
      "source": [
        "bmi[bmi>37].shape # Количество людей с bmi больше 37"
      ],
      "metadata": {
        "colab": {
          "base_uri": "https://localhost:8080/"
        },
        "outputId": "61e562b0-2d42-4507-c660-ac27c0060a7d",
        "id": "oDdkP-q93SeI"
      },
      "execution_count": null,
      "outputs": [
        {
          "output_type": "execute_result",
          "data": {
            "text/plain": [
              "(176,)"
            ]
          },
          "metadata": {},
          "execution_count": 83
        }
      ]
    },
    {
      "cell_type": "markdown",
      "source": [
        "**Вывод:** в выборке преобладают люди с bmi от 22 до 38"
      ],
      "metadata": {
        "id": "lDfPnber4HUZ"
      }
    },
    {
      "cell_type": "code",
      "source": [
        "# Построим зависимости spending-bmi в разарезе групп по bmi\n",
        "\n",
        "plt.scatter(spending[bmi<23], bmi[bmi<23], label = \"bmi < 23\")\n",
        "plt.scatter(spending[bmi>22][bmi[bmi>22]<38], bmi[bmi>22][bmi[bmi>22]<38], label = \"22 < bmi < 38\")\n",
        "plt.scatter(spending[bmi>37], bmi[bmi>37], label = \"bmi > 37\")\n",
        "plt.legend()\n",
        "plt.show()\n"
      ],
      "metadata": {
        "colab": {
          "base_uri": "https://localhost:8080/",
          "height": 265
        },
        "id": "tA4URlmo4HOR",
        "outputId": "6e1db042-f02b-4889-83f3-fc6e84b1cafe"
      },
      "execution_count": null,
      "outputs": [
        {
          "output_type": "display_data",
          "data": {
            "text/plain": [
              "<Figure size 432x288 with 1 Axes>"
            ],
            "image/png": "[encoded data removed]"
          },
          "metadata": {
            "needs_background": "light"
          }
        }
      ]
    },
    {
      "cell_type": "markdown",
      "source": [
        "**Вывод:** траты на страховку у людей с повышенным и высоким bmi существенно выше"
      ],
      "metadata": {
        "id": "rOINxwrh5aGL"
      }
    },
    {
      "cell_type": "code",
      "source": [],
      "metadata": {
        "id": "dETtc2T44SnW"
      },
      "execution_count": null,
      "outputs": []
    }
  ]
}
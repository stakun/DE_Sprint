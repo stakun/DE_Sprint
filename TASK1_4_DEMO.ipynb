{
  "nbformat": 4,
  "nbformat_minor": 0,
  "metadata": {
    "colab": {
      "provenance": [],
      "collapsed_sections": [],
      "authorship_tag": "ABX9TyOFtUd2ycJEJFBpntRsS5BY",
      "include_colab_link": true
    },
    "kernelspec": {
      "name": "python3",
      "display_name": "Python 3"
    },
    "language_info": {
      "name": "python"
    }
  },
  "cells": [
    {
      "cell_type": "markdown",
      "metadata": {
        "id": "view-in-github",
        "colab_type": "text"
      },
      "source": [
        "<a href=\"https://colab.research.google.com/github/stakun/DE_Sprint/blob/main/TASK1_4_DEMO.ipynb\" target=\"_parent\"><img src=\"https://colab.research.google.com/assets/colab-badge.svg\" alt=\"Open In Colab\"/></a>"
      ]
    },
    {
      "cell_type": "markdown",
      "source": [
        "# Практика по теме «1.4. Использование библиотек NumPy, SciPy»"
      ],
      "metadata": {
        "id": "2D9DWwjXa8IF"
      }
    },
    {
      "cell_type": "markdown",
      "source": [
        "## Импорт библиотек"
      ],
      "metadata": {
        "id": "8_mcyx6hazUv"
      }
    },
    {
      "cell_type": "code",
      "execution_count": 1,
      "metadata": {
        "id": "5AYLL1SmZy5K"
      },
      "outputs": [],
      "source": [
        "import numpy as np\n",
        "import matplotlib.pyplot as plt"
      ]
    },
    {
      "cell_type": "markdown",
      "source": [
        "## Создание массива"
      ],
      "metadata": {
        "id": "_klgoqzndKL_"
      }
    },
    {
      "cell_type": "code",
      "source": [
        "# Создадим два массива, заполненных числами от 0 до 10 с шагом 0.1\n",
        "# c помощью функции arrange()\n",
        "\n",
        "x = np.arange(0, 10, 0.1)\n",
        "y = np.arange(0, 10, 0.1)\n",
        "x, y"
      ],
      "metadata": {
        "colab": {
          "base_uri": "https://localhost:8080/"
        },
        "id": "ezSHJE94cyYB",
        "outputId": "c89af750-35c3-4c89-ff2d-7833d6ce6ee8"
      },
      "execution_count": 9,
      "outputs": [
        {
          "output_type": "execute_result",
          "data": {
            "text/plain": [
              "(array([0. , 0.1, 0.2, 0.3, 0.4, 0.5, 0.6, 0.7, 0.8, 0.9, 1. , 1.1, 1.2,\n",
              "        1.3, 1.4, 1.5, 1.6, 1.7, 1.8, 1.9, 2. , 2.1, 2.2, 2.3, 2.4, 2.5,\n",
              "        2.6, 2.7, 2.8, 2.9, 3. , 3.1, 3.2, 3.3, 3.4, 3.5, 3.6, 3.7, 3.8,\n",
              "        3.9, 4. , 4.1, 4.2, 4.3, 4.4, 4.5, 4.6, 4.7, 4.8, 4.9, 5. , 5.1,\n",
              "        5.2, 5.3, 5.4, 5.5, 5.6, 5.7, 5.8, 5.9, 6. , 6.1, 6.2, 6.3, 6.4,\n",
              "        6.5, 6.6, 6.7, 6.8, 6.9, 7. , 7.1, 7.2, 7.3, 7.4, 7.5, 7.6, 7.7,\n",
              "        7.8, 7.9, 8. , 8.1, 8.2, 8.3, 8.4, 8.5, 8.6, 8.7, 8.8, 8.9, 9. ,\n",
              "        9.1, 9.2, 9.3, 9.4, 9.5, 9.6, 9.7, 9.8, 9.9]),\n",
              " array([0. , 0.1, 0.2, 0.3, 0.4, 0.5, 0.6, 0.7, 0.8, 0.9, 1. , 1.1, 1.2,\n",
              "        1.3, 1.4, 1.5, 1.6, 1.7, 1.8, 1.9, 2. , 2.1, 2.2, 2.3, 2.4, 2.5,\n",
              "        2.6, 2.7, 2.8, 2.9, 3. , 3.1, 3.2, 3.3, 3.4, 3.5, 3.6, 3.7, 3.8,\n",
              "        3.9, 4. , 4.1, 4.2, 4.3, 4.4, 4.5, 4.6, 4.7, 4.8, 4.9, 5. , 5.1,\n",
              "        5.2, 5.3, 5.4, 5.5, 5.6, 5.7, 5.8, 5.9, 6. , 6.1, 6.2, 6.3, 6.4,\n",
              "        6.5, 6.6, 6.7, 6.8, 6.9, 7. , 7.1, 7.2, 7.3, 7.4, 7.5, 7.6, 7.7,\n",
              "        7.8, 7.9, 8. , 8.1, 8.2, 8.3, 8.4, 8.5, 8.6, 8.7, 8.8, 8.9, 9. ,\n",
              "        9.1, 9.2, 9.3, 9.4, 9.5, 9.6, 9.7, 9.8, 9.9]))"
            ]
          },
          "metadata": {},
          "execution_count": 9
        }
      ]
    },
    {
      "cell_type": "code",
      "source": [
        "# Уберем шаг 0.1 из создания массива и\n",
        "# выведем график наших точек x и y фукцией scatter()\n",
        "x = np.arange(0, 10)\n",
        "y = np.arange(0, 10)\n",
        "plt.scatter(x,y) # линейная функция\n",
        "plt.show()"
      ],
      "metadata": {
        "colab": {
          "base_uri": "https://localhost:8080/",
          "height": 265
        },
        "id": "_IDOKz_ydrHK",
        "outputId": "c79f243f-d13e-4dae-87be-6fa811f071f9"
      },
      "execution_count": 10,
      "outputs": [
        {
          "output_type": "display_data",
          "data": {
            "text/plain": [
              "<Figure size 432x288 with 1 Axes>"
            ],
            "image/png": "[encoded data removed]"
          },
          "metadata": {
            "needs_background": "light"
          }
        }
      ]
    },
    {
      "cell_type": "code",
      "source": [
        "# Построим с помощью массивов график линейной функции\n",
        "# вида y = ax + b\n",
        "\n",
        "x = np.arange(0, 10)\n",
        "y = np.arange(0, 10)*5 + 2\n",
        "plt.scatter(x,y) # линейная функция y = 5*x+2\n",
        "plt.grid()\n",
        "plt.show()"
      ],
      "metadata": {
        "colab": {
          "base_uri": "https://localhost:8080/",
          "height": 265
        },
        "id": "g8AGiH1cey74",
        "outputId": "4c7012cd-c116-4fa4-9189-634bda93a146"
      },
      "execution_count": 13,
      "outputs": [
        {
          "output_type": "display_data",
          "data": {
            "text/plain": [
              "<Figure size 432x288 with 1 Axes>"
            ],
            "image/png": "[encoded data removed]"
          },
          "metadata": {
            "needs_background": "light"
          }
        }
      ]
    },
    {
      "cell_type": "code",
      "source": [
        "# Построим график квадратичной функции с помощью\n",
        "# массивов numpy\n",
        "\n",
        "x = np.arange(-10, 10)\n",
        "y = np.arange(-10, 10)**2\n",
        "plt.plot(x,y) # квадратичная функция y = x^2\n",
        "plt.grid()\n",
        "plt.show()"
      ],
      "metadata": {
        "colab": {
          "base_uri": "https://localhost:8080/",
          "height": 265
        },
        "id": "H8K9n0ujfelR",
        "outputId": "49b8c08a-09ef-4a36-a109-be05b2b95230"
      },
      "execution_count": 15,
      "outputs": [
        {
          "output_type": "display_data",
          "data": {
            "text/plain": [
              "<Figure size 432x288 with 1 Axes>"
            ],
            "image/png": "[encoded data removed]"
          },
          "metadata": {
            "needs_background": "light"
          }
        }
      ]
    },
    {
      "cell_type": "code",
      "source": [
        "# Аналогично строим график кубической функции\n",
        "\n",
        "x = np.arange(-10, 10)\n",
        "y = np.arange(-10, 10)**3\n",
        "plt.scatter(x,y) # кубическая функция y = x^3\n",
        "plt.grid()\n",
        "plt.show()"
      ],
      "metadata": {
        "colab": {
          "base_uri": "https://localhost:8080/",
          "height": 265
        },
        "id": "N-3DeGnogJT-",
        "outputId": "37441b7f-aadd-4548-f282-a2b2c7ea154f"
      },
      "execution_count": 16,
      "outputs": [
        {
          "output_type": "display_data",
          "data": {
            "text/plain": [
              "<Figure size 432x288 with 1 Axes>"
            ],
            "image/png": "[encoded data removed]"
          },
          "metadata": {
            "needs_background": "light"
          }
        }
      ]
    },
    {
      "cell_type": "code",
      "source": [
        "# Построим логарифмическую функцию\n",
        "\n",
        "x = np.arange(-10, 10, 0.1)\n",
        "y = np.arange(-10, 10, 0.1)**0.5\n",
        "plt.plot(x,y)\n",
        "plt.grid()\n",
        "plt.show()"
      ],
      "metadata": {
        "colab": {
          "base_uri": "https://localhost:8080/",
          "height": 300
        },
        "id": "oFp_tP6VgkUH",
        "outputId": "f703ef2f-18a0-4398-d346-944f1f43050e"
      },
      "execution_count": 17,
      "outputs": [
        {
          "output_type": "stream",
          "name": "stderr",
          "text": [
            "/usr/local/lib/python3.7/dist-packages/ipykernel_launcher.py:4: RuntimeWarning: invalid value encountered in sqrt\n",
            "  after removing the cwd from sys.path.\n"
          ]
        },
        {
          "output_type": "display_data",
          "data": {
            "text/plain": [
              "<Figure size 432x288 with 1 Axes>"
            ],
            "image/png": "[encoded data removed]"
          },
          "metadata": {
            "needs_background": "light"
          }
        }
      ]
    },
    {
      "cell_type": "code",
      "source": [
        "# Тригонометрические функции и экспонента\n",
        "\n",
        "x = np.arange(-10, 10, 0.1)\n",
        "#y = np.sin(np.arange(-10, 10, 0.1))\n",
        "#y = np.cos(np.arange(-10, 10, 0.1))\n",
        "#y = np.tan(np.arange(-10, 10, 0.1))\n",
        "y = np.exp(np.arange(-10, 10, 0.1))\n",
        "plt.plot(x,y)\n",
        "plt.grid()\n",
        "plt.show()"
      ],
      "metadata": {
        "colab": {
          "base_uri": "https://localhost:8080/",
          "height": 265
        },
        "id": "ZsYbs-tmhNz7",
        "outputId": "8f9e60a1-f1fe-4b2d-e7fc-11d1a4fe21aa"
      },
      "execution_count": 22,
      "outputs": [
        {
          "output_type": "display_data",
          "data": {
            "text/plain": [
              "<Figure size 432x288 with 1 Axes>"
            ],
            "image/png": "[encoded data removed]"
          },
          "metadata": {
            "needs_background": "light"
          }
        }
      ]
    },
    {
      "cell_type": "markdown",
      "source": [
        "## Динамические графики"
      ],
      "metadata": {
        "id": "jRQPG9Ljh9SW"
      }
    },
    {
      "cell_type": "code",
      "source": [
        "import time\n",
        "from IPython  import display\n",
        "\n",
        "for k in range(-50, 50):\n",
        "  x = np.arange(-10, 10)\n",
        "  y = np.arange(-10, 10)*k\n",
        "  plt.plot(x,y)\n",
        "  display.display(plt.gcf())\n",
        "  display.clear_output(wait=True)\n",
        "  time.sleep(1)"
      ],
      "metadata": {
        "colab": {
          "base_uri": "https://localhost:8080/",
          "height": 448
        },
        "id": "lXMGa3ash1Qr",
        "outputId": "313830e3-5fb6-45b3-ebd1-f0d8212bc666"
      },
      "execution_count": 23,
      "outputs": [
        {
          "output_type": "error",
          "ename": "KeyboardInterrupt",
          "evalue": "ignored",
          "traceback": [
            "\u001b[0;31m---------------------------------------------------------------------------\u001b[0m",
            "\u001b[0;31mKeyboardInterrupt\u001b[0m                         Traceback (most recent call last)",
            "\u001b[0;32m<ipython-input-23-2fea011decb5>\u001b[0m in \u001b[0;36m<module>\u001b[0;34m\u001b[0m\n\u001b[1;32m      8\u001b[0m   \u001b[0mdisplay\u001b[0m\u001b[0;34m.\u001b[0m\u001b[0mdisplay\u001b[0m\u001b[0;34m(\u001b[0m\u001b[0mplt\u001b[0m\u001b[0;34m.\u001b[0m\u001b[0mgcf\u001b[0m\u001b[0;34m(\u001b[0m\u001b[0;34m)\u001b[0m\u001b[0;34m)\u001b[0m\u001b[0;34m\u001b[0m\u001b[0;34m\u001b[0m\u001b[0m\n\u001b[1;32m      9\u001b[0m   \u001b[0mdisplay\u001b[0m\u001b[0;34m.\u001b[0m\u001b[0mclear_output\u001b[0m\u001b[0;34m(\u001b[0m\u001b[0mwait\u001b[0m\u001b[0;34m=\u001b[0m\u001b[0;32mTrue\u001b[0m\u001b[0;34m)\u001b[0m\u001b[0;34m\u001b[0m\u001b[0;34m\u001b[0m\u001b[0m\n\u001b[0;32m---> 10\u001b[0;31m   \u001b[0mtime\u001b[0m\u001b[0;34m.\u001b[0m\u001b[0msleep\u001b[0m\u001b[0;34m(\u001b[0m\u001b[0;36m1\u001b[0m\u001b[0;34m)\u001b[0m\u001b[0;34m\u001b[0m\u001b[0;34m\u001b[0m\u001b[0m\n\u001b[0m",
            "\u001b[0;31mKeyboardInterrupt\u001b[0m: "
          ]
        },
        {
          "output_type": "display_data",
          "data": {
            "text/plain": [
              "<Figure size 432x288 with 1 Axes>"
            ],
            "image/png": "[encoded data removed]"
          },
          "metadata": {
            "needs_background": "light"
          }
        }
      ]
    },
    {
      "cell_type": "markdown",
      "source": [
        "## Работа с датасетами"
      ],
      "metadata": {
        "id": "iTs12ybsjHIe"
      }
    },
    {
      "cell_type": "code",
      "source": [
        "# Датасет dataset_home.txt содержит 7 колонок, разделенных запятыми\n",
        "# 1. Возраст\n",
        "# 2. Пол\n",
        "# 3. Индекс массы тела\n",
        "# 4. Количество детей\n",
        "# 5. Курит? (yes/no)\n",
        "# 6. Регион проживания\n",
        "# 7. Сумма, которую человек тратит на страховки (прогнозируемая величина Y)\n",
        "\n",
        "\n",
        "# Для начала нам надо собрать данные из нашего текстового файла.\n",
        "# Для этого создадим ряд обычных списков.\n",
        "# Мы создаем обычные списки, а не сразу массивы numpy\n",
        "# так как не знаем размера исходного файла\n",
        "# В теории можно было бы объявить numpy массивы заданной размерности\n",
        "# а потом заполнить их. Но мы сейчас пойдем самым примитивным путем\n",
        "# создадим списки, а потом объединим их в массив numpy\n",
        "\n",
        "age = []\n",
        "sex = []\n",
        "bmi = []\n",
        "children = []\n",
        "smoker = []\n",
        "region = []\n",
        "spending = []"
      ],
      "metadata": {
        "id": "jzl2T9oDi-Gb"
      },
      "execution_count": 51,
      "outputs": []
    },
    {
      "cell_type": "code",
      "source": [
        "ls"
      ],
      "metadata": {
        "colab": {
          "base_uri": "https://localhost:8080/"
        },
        "id": "duP6atYjnYwm",
        "outputId": "1a6eb563-9aa8-4f35-b20d-eaffc03757bf"
      },
      "execution_count": 52,
      "outputs": [
        {
          "output_type": "stream",
          "name": "stdout",
          "text": [
            "dataset_home.txt  \u001b[0m\u001b[01;34msample_data\u001b[0m/\n"
          ]
        }
      ]
    },
    {
      "cell_type": "code",
      "source": [
        "# Парсинг исходного датасета в списки\n",
        "\n",
        "with open(\"./dataset_home.txt\", mode = \"r\") as data:\n",
        "  for human in data.readlines():\n",
        "    #print(human)\n",
        "    # Заполняем список возрастов преобразуя их в целые числа\n",
        "    age.append(int(human.split(\",\")[0]))\n",
        "    \n",
        "    # Заполняем список полов преобразуя строки в 0 и 1\n",
        "    if human.split(\",\")[1] == \"male\":\n",
        "      sex.append(1) # если мужчина заносим в список 1\n",
        "    else:\n",
        "      sex.append(0) # если женщина заносим в список 0\n",
        "    \n",
        "    # Заполняем список ИМТ преобразуя строки в числа с пл. точкой\n",
        "    bmi.append(float(human.split(\",\")[2]))\n",
        "\n",
        "    # Заполняем список кол-ва детей преобразуя их в целые числа\n",
        "    children.append(int(human.split(\",\")[3]))\n",
        "\n",
        "    # Заполняем список признака курильщика преобразуя строки в 0 и 1\n",
        "    if human.split(\",\")[4] == \"yes\":\n",
        "      smoker.append(1) # если курит заносим в список 1\n",
        "    else:\n",
        "      smoker.append(0) # если не курит заносим в список 0\n",
        "    \n",
        "    # Заполняем список регионов кодами регионов\n",
        "    if human.split(\",\")[5] == \"northwest\":\n",
        "      region.append(0) # 0 - northwest\n",
        "    elif human.split(\",\")[5] == \"northeast\":\n",
        "      region.append(1) # 1 - northeast\n",
        "    elif human.split(\",\")[5] == \"southwest\":\n",
        "      region.append(2) # 2 - southwest\n",
        "    elif human.split(\",\")[5] == \"southeast\":\n",
        "      region.append(3) # 3 - southeast\n",
        "    else:\n",
        "      region.append(human.split(\",\")[5]) # Если пропустили регион в условии заносим его как есть \n",
        "\n",
        "    # Заполняем список трат на страховки преобразуя строки в числа с пл. точкой\n",
        "    spending.append(float(human.split(\",\")[6]))"
      ],
      "metadata": {
        "id": "-B9qAds4nfMo"
      },
      "execution_count": 55,
      "outputs": []
    },
    {
      "cell_type": "code",
      "source": [
        "# Преобразуем полученные списки в nupmy массивы\n",
        "\n",
        "age = np.array(age)\n",
        "sex = np.array(sex)\n",
        "bmi = np.array(bmi)\n",
        "children = np.array(children)\n",
        "smoker = np.array(smoker)\n",
        "region = np.array(region)\n",
        "spending = np.array(spending)"
      ],
      "metadata": {
        "id": "SI49JJS0uoLg"
      },
      "execution_count": 56,
      "outputs": []
    },
    {
      "cell_type": "code",
      "source": [
        "age.shape # Проверяем форму массива age"
      ],
      "metadata": {
        "colab": {
          "base_uri": "https://localhost:8080/"
        },
        "id": "i8e3n884u--G",
        "outputId": "f97838a7-b4b1-4479-e634-223d1e56dc85"
      },
      "execution_count": 59,
      "outputs": [
        {
          "output_type": "execute_result",
          "data": {
            "text/plain": [
              "(1340,)"
            ]
          },
          "metadata": {},
          "execution_count": 59
        }
      ]
    },
    {
      "cell_type": "code",
      "source": [
        "# Описательные статистики age\n",
        "age.min(), age.max(), age.mean()"
      ],
      "metadata": {
        "colab": {
          "base_uri": "https://localhost:8080/"
        },
        "id": "M5B2UicNvTuQ",
        "outputId": "e56b5f42-9b3e-4d55-d3b1-dfac051cf1e0"
      },
      "execution_count": 61,
      "outputs": [
        {
          "output_type": "execute_result",
          "data": {
            "text/plain": [
              "(18, 64, 38.37761194029851)"
            ]
          },
          "metadata": {},
          "execution_count": 61
        }
      ]
    },
    {
      "cell_type": "code",
      "source": [
        "# Описательные статистики spending\n",
        "spending.min(), spending.max(), spending.mean()"
      ],
      "metadata": {
        "colab": {
          "base_uri": "https://localhost:8080/"
        },
        "id": "H3P1FzTWvqu3",
        "outputId": "5698ab87-3cee-418c-8aa7-a1c96b5bb3ee"
      },
      "execution_count": 62,
      "outputs": [
        {
          "output_type": "execute_result",
          "data": {
            "text/plain": [
              "(1131.5066, 62592.87309, 12899.874326014924)"
            ]
          },
          "metadata": {},
          "execution_count": 62
        }
      ]
    },
    {
      "cell_type": "code",
      "source": [
        "# Построим зависимость spending-age\n",
        "\n",
        "#plt.scatter(spending, age)\n",
        "plt.scatter(np.log(spending), age)"
      ],
      "metadata": {
        "colab": {
          "base_uri": "https://localhost:8080/",
          "height": 282
        },
        "id": "5Ipor7FowV05",
        "outputId": "4d710b24-63c8-4395-fd60-95313193b6e9"
      },
      "execution_count": 64,
      "outputs": [
        {
          "output_type": "execute_result",
          "data": {
            "text/plain": [
              "<matplotlib.collections.PathCollection at 0x7fe7bde944d0>"
            ]
          },
          "metadata": {},
          "execution_count": 64
        },
        {
          "output_type": "display_data",
          "data": {
            "text/plain": [
              "<Figure size 432x288 with 1 Axes>"
            ],
            "image/png": "[encoded data removed]"
          },
          "metadata": {
            "needs_background": "light"
          }
        }
      ]
    },
    {
      "cell_type": "code",
      "source": [
        "# Построим зависимость spending-bmi\n",
        "\n",
        "plt.scatter(spending, bmi)\n",
        "#plt.scatter(np.log(spending), bmi)"
      ],
      "metadata": {
        "colab": {
          "base_uri": "https://localhost:8080/",
          "height": 282
        },
        "id": "8Aj4QeFKwxKd",
        "outputId": "29211fb2-21f9-430d-f57c-9986f86bd589"
      },
      "execution_count": 69,
      "outputs": [
        {
          "output_type": "execute_result",
          "data": {
            "text/plain": [
              "<matplotlib.collections.PathCollection at 0x7fe7bdc3f5d0>"
            ]
          },
          "metadata": {},
          "execution_count": 69
        },
        {
          "output_type": "display_data",
          "data": {
            "text/plain": [
              "<Figure size 432x288 with 1 Axes>"
            ],
            "image/png": "[encoded data removed]"
          },
          "metadata": {
            "needs_background": "light"
          }
        }
      ]
    },
    {
      "cell_type": "code",
      "source": [
        "# Построим зависимость spending-количество детей\n",
        "\n",
        "plt.scatter(spending, children)\n",
        "#plt.scatter(np.log(spending), children)"
      ],
      "metadata": {
        "colab": {
          "base_uri": "https://localhost:8080/",
          "height": 282
        },
        "id": "3vYXvjgHxPmv",
        "outputId": "d0becb1b-3a71-4864-ad87-4bb3b9bef47c"
      },
      "execution_count": 70,
      "outputs": [
        {
          "output_type": "execute_result",
          "data": {
            "text/plain": [
              "<matplotlib.collections.PathCollection at 0x7fe7bdbbd190>"
            ]
          },
          "metadata": {},
          "execution_count": 70
        },
        {
          "output_type": "display_data",
          "data": {
            "text/plain": [
              "<Figure size 432x288 with 1 Axes>"
            ],
            "image/png": "[encoded data removed]"
          },
          "metadata": {
            "needs_background": "light"
          }
        }
      ]
    },
    {
      "cell_type": "code",
      "source": [
        "# Построим зависимость spending-smoker\n",
        "# scatter здесь не подойдет, построим столбчатый график\n",
        "\n",
        "plt.bar(smoker, spending)"
      ],
      "metadata": {
        "colab": {
          "base_uri": "https://localhost:8080/",
          "height": 282
        },
        "id": "EsaO1MXtx2Iz",
        "outputId": "a6ec1802-ef10-487e-c356-8aaab34e4dbd"
      },
      "execution_count": 72,
      "outputs": [
        {
          "output_type": "execute_result",
          "data": {
            "text/plain": [
              "<BarContainer object of 1340 artists>"
            ]
          },
          "metadata": {},
          "execution_count": 72
        },
        {
          "output_type": "display_data",
          "data": {
            "text/plain": [
              "<Figure size 432x288 with 1 Axes>"
            ],
            "image/png": "[encoded data removed]"
          },
          "metadata": {
            "needs_background": "light"
          }
        }
      ]
    },
    {
      "cell_type": "markdown",
      "source": [
        "**Вывод:** у тех, кто не курит расходы на страховку в среднем меньше, чем у курящих"
      ],
      "metadata": {
        "id": "37FuZ4E3yaWC"
      }
    },
    {
      "cell_type": "code",
      "source": [
        "# Построим гистограмму для spending\n",
        "\n",
        "plt.hist(spending)"
      ],
      "metadata": {
        "colab": {
          "base_uri": "https://localhost:8080/",
          "height": 352
        },
        "id": "4B1Nz3fCyZfI",
        "outputId": "9d64293c-e2de-43f5-a8ca-f543b7c44469"
      },
      "execution_count": 73,
      "outputs": [
        {
          "output_type": "execute_result",
          "data": {
            "text/plain": [
              "(array([556., 376., 148.,  76.,  38.,  58.,  48.,  30.,   6.,   4.]),\n",
              " array([ 1131.5066  ,  7277.643249, 13423.779898, 19569.916547,\n",
              "        25716.053196, 31862.189845, 38008.326494, 44154.463143,\n",
              "        50300.599792, 56446.736441, 62592.87309 ]),\n",
              " <a list of 10 Patch objects>)"
            ]
          },
          "metadata": {},
          "execution_count": 73
        },
        {
          "output_type": "display_data",
          "data": {
            "text/plain": [
              "<Figure size 432x288 with 1 Axes>"
            ],
            "image/png": "[encoded data removed]"
          },
          "metadata": {
            "needs_background": "light"
          }
        }
      ]
    },
    {
      "cell_type": "markdown",
      "source": [
        "**Вывод:** превалируют значения до 10000"
      ],
      "metadata": {
        "id": "5WkDBH7ey2z1"
      }
    },
    {
      "cell_type": "code",
      "source": [
        "# Посмотрим распределение выборки по возрастам\n",
        "\n",
        "age[age<36].shape # Количество людей младше 36 лет"
      ],
      "metadata": {
        "colab": {
          "base_uri": "https://localhost:8080/"
        },
        "id": "8bwiRiEDy2Za",
        "outputId": "d5787386-10f1-4674-fb79-7910d6cefc4d"
      },
      "execution_count": 74,
      "outputs": [
        {
          "output_type": "execute_result",
          "data": {
            "text/plain": [
              "(614,)"
            ]
          },
          "metadata": {},
          "execution_count": 74
        }
      ]
    },
    {
      "cell_type": "code",
      "source": [
        "age[age>35][age[age>35]<56].shape # Количество людей от 35 до 56 лет"
      ],
      "metadata": {
        "colab": {
          "base_uri": "https://localhost:8080/"
        },
        "id": "gKvRLAfAzl5j",
        "outputId": "b7d4c298-51c4-4632-c078-b28630d8168c"
      },
      "execution_count": 75,
      "outputs": [
        {
          "output_type": "execute_result",
          "data": {
            "text/plain": [
              "(538,)"
            ]
          },
          "metadata": {},
          "execution_count": 75
        }
      ]
    },
    {
      "cell_type": "code",
      "source": [
        "age[age>55].shape # Количество людей старше 55 лет"
      ],
      "metadata": {
        "colab": {
          "base_uri": "https://localhost:8080/"
        },
        "id": "r8D8jVDHz6aT",
        "outputId": "b587dbd1-63b1-4030-c969-2d7e4f35734c"
      },
      "execution_count": 76,
      "outputs": [
        {
          "output_type": "execute_result",
          "data": {
            "text/plain": [
              "(188,)"
            ]
          },
          "metadata": {},
          "execution_count": 76
        }
      ]
    },
    {
      "cell_type": "markdown",
      "source": [
        "**Вывод:** в выборке преобладают молодые люди и люди среднего возраста"
      ],
      "metadata": {
        "id": "eAGpsUxM0DpR"
      }
    },
    {
      "cell_type": "code",
      "source": [
        "# Построим зависимости spending-bmi в разарезе возрастных групп\n",
        "\n",
        "plt.scatter(spending[age<36], bmi[age<36], label = \"age < 36\")\n",
        "plt.scatter(spending[age>35][age[age>35]<56], bmi[age>35][age[age>35]<56], label = \"35 < age < 56\")\n",
        "plt.scatter(spending[age>55], bmi[age>55], label = \"age > 55\")\n",
        "plt.legend()\n",
        "plt.show()\n"
      ],
      "metadata": {
        "colab": {
          "base_uri": "https://localhost:8080/",
          "height": 265
        },
        "id": "pTjYDydW0Ctv",
        "outputId": "241426fc-7626-4289-fedb-d8b8001457e3"
      },
      "execution_count": 84,
      "outputs": [
        {
          "output_type": "display_data",
          "data": {
            "text/plain": [
              "<Figure size 432x288 with 1 Axes>"
            ],
            "image/png": "[encoded data removed]"
          },
          "metadata": {
            "needs_background": "light"
          }
        }
      ]
    },
    {
      "cell_type": "markdown",
      "source": [
        "**Вывод:** у людей в возрастной группе 55+ стоимость страховки намного выше."
      ],
      "metadata": {
        "id": "hwEoswPd1-Km"
      }
    },
    {
      "cell_type": "code",
      "source": [
        "# Построим гистограмму распределения веса (bmi)\n",
        "\n",
        "plt.hist(bmi)"
      ],
      "metadata": {
        "colab": {
          "base_uri": "https://localhost:8080/",
          "height": 334
        },
        "id": "SgrkIyoG19-_",
        "outputId": "66385db0-8620-4935-caab-492bc2830cea"
      },
      "execution_count": 80,
      "outputs": [
        {
          "output_type": "execute_result",
          "data": {
            "text/plain": [
              "(array([ 54., 160., 258., 306., 284., 158.,  88.,  22.,   6.,   4.]),\n",
              " array([16.815 , 20.4465, 24.078 , 27.7095, 31.341 , 34.9725, 38.604 ,\n",
              "        42.2355, 45.867 , 49.4985, 53.13  ]),\n",
              " <a list of 10 Patch objects>)"
            ]
          },
          "metadata": {},
          "execution_count": 80
        },
        {
          "output_type": "display_data",
          "data": {
            "text/plain": [
              "<Figure size 432x288 with 1 Axes>"
            ],
            "image/png": "[encoded data removed]"
          },
          "metadata": {
            "needs_background": "light"
          }
        }
      ]
    },
    {
      "cell_type": "markdown",
      "source": [
        "**Вывод:** распределени bmi близко к нормальному"
      ],
      "metadata": {
        "id": "AGgpL2Cq2gP_"
      }
    },
    {
      "cell_type": "code",
      "source": [
        "# Построим распределения bmi по группам\n",
        "\n",
        "bmi[bmi<23].shape # Количество людей c bmi меньше 23"
      ],
      "metadata": {
        "colab": {
          "base_uri": "https://localhost:8080/"
        },
        "id": "bCA33A-R2gIp",
        "outputId": "9d2c59e3-408b-418d-a984-99dc3224b9cb"
      },
      "execution_count": 81,
      "outputs": [
        {
          "output_type": "execute_result",
          "data": {
            "text/plain": [
              "(152,)"
            ]
          },
          "metadata": {},
          "execution_count": 81
        }
      ]
    },
    {
      "cell_type": "code",
      "source": [
        "bmi[bmi>22][bmi[bmi>22]<38].shape # Количество людей c bmi от 22 до 38"
      ],
      "metadata": {
        "colab": {
          "base_uri": "https://localhost:8080/"
        },
        "outputId": "1adbca97-6175-4fe5-ba15-b181327605ac",
        "id": "idrtXWu_3SeG"
      },
      "execution_count": 82,
      "outputs": [
        {
          "output_type": "execute_result",
          "data": {
            "text/plain": [
              "(1100,)"
            ]
          },
          "metadata": {},
          "execution_count": 82
        }
      ]
    },
    {
      "cell_type": "code",
      "source": [
        "bmi[bmi>37].shape # Количество людей с bmi больше 37"
      ],
      "metadata": {
        "colab": {
          "base_uri": "https://localhost:8080/"
        },
        "outputId": "61e562b0-2d42-4507-c660-ac27c0060a7d",
        "id": "oDdkP-q93SeI"
      },
      "execution_count": 83,
      "outputs": [
        {
          "output_type": "execute_result",
          "data": {
            "text/plain": [
              "(176,)"
            ]
          },
          "metadata": {},
          "execution_count": 83
        }
      ]
    },
    {
      "cell_type": "markdown",
      "source": [
        "**Вывод:** в выборке преобладают люди с bmi от 22 до 38"
      ],
      "metadata": {
        "id": "lDfPnber4HUZ"
      }
    },
    {
      "cell_type": "code",
      "source": [
        "# Построим зависимости spending-bmi в разарезе групп по bmi\n",
        "\n",
        "plt.scatter(spending[bmi<23], bmi[bmi<23], label = \"bmi < 23\")\n",
        "plt.scatter(spending[bmi>22][bmi[bmi>22]<38], bmi[bmi>22][bmi[bmi>22]<38], label = \"22 < bmi < 38\")\n",
        "plt.scatter(spending[bmi>37], bmi[bmi>37], label = \"bmi > 37\")\n",
        "plt.legend()\n",
        "plt.show()\n"
      ],
      "metadata": {
        "colab": {
          "base_uri": "https://localhost:8080/",
          "height": 265
        },
        "id": "tA4URlmo4HOR",
        "outputId": "6e1db042-f02b-4889-83f3-fc6e84b1cafe"
      },
      "execution_count": 85,
      "outputs": [
        {
          "output_type": "display_data",
          "data": {
            "text/plain": [
              "<Figure size 432x288 with 1 Axes>"
            ],
            "image/png": "[encoded data removed]"
          },
          "metadata": {
            "needs_background": "light"
          }
        }
      ]
    },
    {
      "cell_type": "markdown",
      "source": [
        "**Вывод:** траты на страховку у людей с повышенным и высоким bmi существенно выше"
      ],
      "metadata": {
        "id": "rOINxwrh5aGL"
      }
    },
    {
      "cell_type": "code",
      "source": [],
      "metadata": {
        "id": "dETtc2T44SnW"
      },
      "execution_count": null,
      "outputs": []
    }
  ]
}